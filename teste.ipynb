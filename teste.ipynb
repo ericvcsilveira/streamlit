{
 "cells": [
  {
   "cell_type": "code",
   "execution_count": 2,
   "metadata": {},
   "outputs": [],
   "source": [
    "import pandas as pd"
   ]
  },
  {
   "cell_type": "code",
   "execution_count": 9,
   "metadata": {},
   "outputs": [],
   "source": [
    "# Ler o arquivo CSV para um DataFrame\n",
    "df = pd.read_csv('indicadores.csv')\n",
    "\n",
    "df = df['Categoria;Indicador'].str.split(';', expand=True)\n",
    "\n",
    "# Renomeie as colunas, se necessário\n",
    "df.columns = ['Categoria', 'Indicador']\n"
   ]
  },
  {
   "cell_type": "code",
   "execution_count": 6,
   "metadata": {},
   "outputs": [
    {
     "data": {
      "text/plain": [
       "'Fases completadas'"
      ]
     },
     "execution_count": 6,
     "metadata": {},
     "output_type": "execute_result"
    }
   ],
   "source": [
    "df['Indicador'][0]"
   ]
  },
  {
   "cell_type": "code",
   "execution_count": 8,
   "metadata": {},
   "outputs": [
    {
     "name": "stdout",
     "output_type": "stream",
     "text": [
      "44\n"
     ]
    }
   ],
   "source": [
    "print(len(df['Indicador']))"
   ]
  },
  {
   "cell_type": "code",
   "execution_count": 11,
   "metadata": {},
   "outputs": [
    {
     "name": "stdout",
     "output_type": "stream",
     "text": [
      "['Completáveis' 'Rastreamento de Tempo' 'Interações do Usuário'\n",
      " 'Agrupamento de Jogadores' 'Agrupamento de Fases' 'Curvas de Aprendizado'\n",
      " 'Dados que precisam de outros dispositivos']\n"
     ]
    }
   ],
   "source": [
    "categorias_unicas = df['Categoria'].unique()\n",
    "\n",
    "print(categorias_unicas)\n"
   ]
  },
  {
   "cell_type": "code",
   "execution_count": null,
   "metadata": {},
   "outputs": [],
   "source": []
  }
 ],
 "metadata": {
  "kernelspec": {
   "display_name": "Python 3",
   "language": "python",
   "name": "python3"
  },
  "language_info": {
   "codemirror_mode": {
    "name": "ipython",
    "version": 3
   },
   "file_extension": ".py",
   "mimetype": "text/x-python",
   "name": "python",
   "nbconvert_exporter": "python",
   "pygments_lexer": "ipython3",
   "version": "3.12.1"
  }
 },
 "nbformat": 4,
 "nbformat_minor": 2
}
